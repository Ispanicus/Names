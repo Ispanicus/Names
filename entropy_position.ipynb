{
 "cells": [
  {
   "cell_type": "code",
   "execution_count": 3,
   "id": "988dfd08-213d-4b41-bb22-c2158e182320",
   "metadata": {},
   "outputs": [],
   "source": [
    "import pandas as pd\n",
    "import numpy as np\n",
    "from names import util\n",
    "from scipy import stats\n",
    "from unidecode import unidecode\n"
   ]
  },
  {
   "cell_type": "code",
   "execution_count": 4,
   "id": "76f93758-207b-43ac-8846-5b3044d449c0",
   "metadata": {},
   "outputs": [],
   "source": [
    "data = util.just_give_me_all_the_shit(\"firstName\")"
   ]
  },
  {
   "cell_type": "code",
   "execution_count": 5,
   "id": "24b21b0a-bc40-4890-8969-c20eef8a04ba",
   "metadata": {},
   "outputs": [
    {
     "data": {
      "text/plain": [
       "{'Euro Germanic', 'Euro Romance', 'Non-Euro Romance/Germanic', 'Other'}"
      ]
     },
     "execution_count": 5,
     "metadata": {},
     "output_type": "execute_result"
    }
   ],
   "source": [
    "set(data.family)"
   ]
  },
  {
   "cell_type": "code",
   "execution_count": 10,
   "id": "64904740-2313-4474-8027-e7f9ea7be9ce",
   "metadata": {},
   "outputs": [
    {
     "data": {
      "text/html": [
       "<div>\n",
       "<style scoped>\n",
       "    .dataframe tbody tr th:only-of-type {\n",
       "        vertical-align: middle;\n",
       "    }\n",
       "\n",
       "    .dataframe tbody tr th {\n",
       "        vertical-align: top;\n",
       "    }\n",
       "\n",
       "    .dataframe thead th {\n",
       "        text-align: right;\n",
       "    }\n",
       "</style>\n",
       "<table border=\"1\" class=\"dataframe\">\n",
       "  <thead>\n",
       "    <tr style=\"text-align: right;\">\n",
       "      <th></th>\n",
       "      <th>country</th>\n",
       "      <th>name</th>\n",
       "      <th>tfidf</th>\n",
       "      <th>freq</th>\n",
       "      <th>freq_percent</th>\n",
       "      <th>normed_count</th>\n",
       "      <th>family</th>\n",
       "    </tr>\n",
       "  </thead>\n",
       "  <tbody>\n",
       "    <tr>\n",
       "      <th>0</th>\n",
       "      <td>AE</td>\n",
       "      <td>md</td>\n",
       "      <td>0.561901</td>\n",
       "      <td>141370</td>\n",
       "      <td>0.050518</td>\n",
       "      <td>34081</td>\n",
       "      <td>Other</td>\n",
       "    </tr>\n",
       "    <tr>\n",
       "      <th>1</th>\n",
       "      <td>AE</td>\n",
       "      <td>muhammad</td>\n",
       "      <td>0.344017</td>\n",
       "      <td>87488</td>\n",
       "      <td>0.031264</td>\n",
       "      <td>21091</td>\n",
       "      <td>Other</td>\n",
       "    </tr>\n",
       "    <tr>\n",
       "      <th>2</th>\n",
       "      <td>AE</td>\n",
       "      <td>mohammed</td>\n",
       "      <td>0.228026</td>\n",
       "      <td>54349</td>\n",
       "      <td>0.019421</td>\n",
       "      <td>13102</td>\n",
       "      <td>Other</td>\n",
       "    </tr>\n",
       "    <tr>\n",
       "      <th>3</th>\n",
       "      <td>AE</td>\n",
       "      <td>abdul</td>\n",
       "      <td>0.188020</td>\n",
       "      <td>50446</td>\n",
       "      <td>0.018027</td>\n",
       "      <td>12161</td>\n",
       "      <td>Other</td>\n",
       "    </tr>\n",
       "    <tr>\n",
       "      <th>4</th>\n",
       "      <td>AE</td>\n",
       "      <td>mohammad</td>\n",
       "      <td>0.175260</td>\n",
       "      <td>41320</td>\n",
       "      <td>0.014766</td>\n",
       "      <td>9961</td>\n",
       "      <td>Other</td>\n",
       "    </tr>\n",
       "    <tr>\n",
       "      <th>...</th>\n",
       "      <td>...</td>\n",
       "      <td>...</td>\n",
       "      <td>...</td>\n",
       "      <td>...</td>\n",
       "      <td>...</td>\n",
       "      <td>...</td>\n",
       "      <td>...</td>\n",
       "    </tr>\n",
       "    <tr>\n",
       "      <th>92995</th>\n",
       "      <td>ZA</td>\n",
       "      <td>songezo</td>\n",
       "      <td>0.007541</td>\n",
       "      <td>1309</td>\n",
       "      <td>0.000247</td>\n",
       "      <td>167</td>\n",
       "      <td>Other</td>\n",
       "    </tr>\n",
       "    <tr>\n",
       "      <th>92996</th>\n",
       "      <td>ZA</td>\n",
       "      <td>enock</td>\n",
       "      <td>0.007535</td>\n",
       "      <td>2130</td>\n",
       "      <td>0.000403</td>\n",
       "      <td>272</td>\n",
       "      <td>Other</td>\n",
       "    </tr>\n",
       "    <tr>\n",
       "      <th>92997</th>\n",
       "      <td>ZA</td>\n",
       "      <td>pat</td>\n",
       "      <td>0.007518</td>\n",
       "      <td>4419</td>\n",
       "      <td>0.000835</td>\n",
       "      <td>563</td>\n",
       "      <td>Other</td>\n",
       "    </tr>\n",
       "    <tr>\n",
       "      <th>92998</th>\n",
       "      <td>ZA</td>\n",
       "      <td>lungy</td>\n",
       "      <td>0.007495</td>\n",
       "      <td>1301</td>\n",
       "      <td>0.000246</td>\n",
       "      <td>166</td>\n",
       "      <td>Other</td>\n",
       "    </tr>\n",
       "    <tr>\n",
       "      <th>92999</th>\n",
       "      <td>ZA</td>\n",
       "      <td>jolene</td>\n",
       "      <td>0.007492</td>\n",
       "      <td>2427</td>\n",
       "      <td>0.000459</td>\n",
       "      <td>309</td>\n",
       "      <td>Other</td>\n",
       "    </tr>\n",
       "  </tbody>\n",
       "</table>\n",
       "<p>93000 rows × 7 columns</p>\n",
       "</div>"
      ],
      "text/plain": [
       "      country      name     tfidf    freq  freq_percent  normed_count family\n",
       "0          AE        md  0.561901  141370      0.050518         34081  Other\n",
       "1          AE  muhammad  0.344017   87488      0.031264         21091  Other\n",
       "2          AE  mohammed  0.228026   54349      0.019421         13102  Other\n",
       "3          AE     abdul  0.188020   50446      0.018027         12161  Other\n",
       "4          AE  mohammad  0.175260   41320      0.014766          9961  Other\n",
       "...       ...       ...       ...     ...           ...           ...    ...\n",
       "92995      ZA   songezo  0.007541    1309      0.000247           167  Other\n",
       "92996      ZA     enock  0.007535    2130      0.000403           272  Other\n",
       "92997      ZA       pat  0.007518    4419      0.000835           563  Other\n",
       "92998      ZA     lungy  0.007495    1301      0.000246           166  Other\n",
       "92999      ZA    jolene  0.007492    2427      0.000459           309  Other\n",
       "\n",
       "[93000 rows x 7 columns]"
      ]
     },
     "execution_count": 10,
     "metadata": {},
     "output_type": "execute_result"
    }
   ],
   "source": [
    "data"
   ]
  },
  {
   "cell_type": "code",
   "execution_count": 6,
   "id": "9e3ed4e9-bc26-40e9-b6d6-671dc6ac2cf8",
   "metadata": {},
   "outputs": [],
   "source": [
    "romance = ['ES', 'PT', 'FR', 'IT']\n",
    "germanic = ['GB', 'SE', 'DE', 'NL']\n",
    "euro_g = [\"dutch\",\"english\",\"german\",\"swedish\"]\n",
    "euro_r = [\"french\",\"italian\",\"portuguese\",\"spanish\"]"
   ]
  },
  {
   "cell_type": "code",
   "execution_count": 2,
   "id": "a4c62824-1e62-448b-80b0-de2223d5402c",
   "metadata": {},
   "outputs": [],
   "source": [
    "countries = ['IT','DK', 'FR', 'PT', 'ES', \"SE\"]"
   ]
  },
  {
   "cell_type": "code",
   "execution_count": 19,
   "id": "05de41c2-9a59-4d61-b33d-baa0667f4a81",
   "metadata": {},
   "outputs": [],
   "source": [
    "col = 'firstName'\n",
    "data = util.just_give_me_all_the_shit(col)\n",
    "# top = util.get_n_tfidf_names(country_name_counts, n_top_names=1000)\n",
    "# top_w_count = util.add_freq_to_tfidf(country_name_counts, top).reset_index()\n",
    "# top_w_count = top_w_count[top_w_count.country.isin(countries)]\n",
    "data = data[data.family.isin(['Euro Germanic', 'Euro Romance'])]\n",
    "top_repeated = data.loc[data.index.repeat(data.freq)]\n",
    "\n",
    "# top = top.reset_index()\n",
    "# top = top[top.country.isin(countries)]"
   ]
  },
  {
   "cell_type": "code",
   "execution_count": 20,
   "id": "c72f068c-e644-439c-af81-e2e5a3bcd2dd",
   "metadata": {},
   "outputs": [],
   "source": [
    "col = 'lastName'\n",
    "data = util.just_give_me_all_the_shit(col)\n",
    "# top = util.get_n_tfidf_names(country_name_counts, n_top_names=1000)\n",
    "# top_w_count = util.add_freq_to_tfidf(country_name_counts, top).reset_index()\n",
    "# top_w_count = top_w_count[top_w_count.country.isin(countries)]\n",
    "data = data[data.family.isin(['Euro Germanic', 'Euro Romance'])]\n",
    "top_last_repeated = data.loc[data.index.repeat(data.freq)]"
   ]
  },
  {
   "cell_type": "code",
   "execution_count": 20,
   "id": "88b2d726-fa5a-43e6-ad65-9739f1cd7ebe",
   "metadata": {},
   "outputs": [],
   "source": [
    "# list(top_w_count[top_w_count[\"country\"] == \"SG\"][\"name\"])"
   ]
  },
  {
   "cell_type": "code",
   "execution_count": 7,
   "id": "e5a71eba-7fa9-4a3b-86e4-3f9d666270b5",
   "metadata": {},
   "outputs": [
    {
     "data": {
      "text/html": [
       "<div>\n",
       "<style scoped>\n",
       "    .dataframe tbody tr th:only-of-type {\n",
       "        vertical-align: middle;\n",
       "    }\n",
       "\n",
       "    .dataframe tbody tr th {\n",
       "        vertical-align: top;\n",
       "    }\n",
       "\n",
       "    .dataframe thead th {\n",
       "        text-align: right;\n",
       "    }\n",
       "</style>\n",
       "<table border=\"1\" class=\"dataframe\">\n",
       "  <thead>\n",
       "    <tr style=\"text-align: right;\">\n",
       "      <th></th>\n",
       "      <th>country</th>\n",
       "      <th>name</th>\n",
       "      <th>tfidf</th>\n",
       "      <th>freq</th>\n",
       "      <th>freq_percent</th>\n",
       "    </tr>\n",
       "  </thead>\n",
       "  <tbody>\n",
       "    <tr>\n",
       "      <th>28141</th>\n",
       "      <td>DK</td>\n",
       "      <td>hans</td>\n",
       "      <td>0.028611</td>\n",
       "      <td>1310</td>\n",
       "      <td>0.002969</td>\n",
       "    </tr>\n",
       "    <tr>\n",
       "      <th>92092</th>\n",
       "      <td>SE</td>\n",
       "      <td>hans</td>\n",
       "      <td>0.045217</td>\n",
       "      <td>2963</td>\n",
       "      <td>0.003774</td>\n",
       "    </tr>\n",
       "  </tbody>\n",
       "</table>\n",
       "</div>"
      ],
      "text/plain": [
       "      country  name     tfidf  freq  freq_percent\n",
       "28141      DK  hans  0.028611  1310      0.002969\n",
       "92092      SE  hans  0.045217  2963      0.003774"
      ]
     },
     "execution_count": 7,
     "metadata": {},
     "output_type": "execute_result"
    }
   ],
   "source": [
    "top_w_count[top_w_count[\"name\"] == \"hans\"]"
   ]
  },
  {
   "cell_type": "code",
   "execution_count": 12,
   "id": "b77422da-1ad9-4836-81e5-bbc0087dc384",
   "metadata": {},
   "outputs": [
    {
     "data": {
      "text/html": [
       "<div>\n",
       "<style scoped>\n",
       "    .dataframe tbody tr th:only-of-type {\n",
       "        vertical-align: middle;\n",
       "    }\n",
       "\n",
       "    .dataframe tbody tr th {\n",
       "        vertical-align: top;\n",
       "    }\n",
       "\n",
       "    .dataframe thead th {\n",
       "        text-align: right;\n",
       "    }\n",
       "</style>\n",
       "<table border=\"1\" class=\"dataframe\">\n",
       "  <thead>\n",
       "    <tr style=\"text-align: right;\">\n",
       "      <th></th>\n",
       "      <th>name</th>\n",
       "      <th>freq</th>\n",
       "    </tr>\n",
       "  </thead>\n",
       "  <tbody>\n",
       "    <tr>\n",
       "      <th>515</th>\n",
       "      <td>hans</td>\n",
       "      <td>4273</td>\n",
       "    </tr>\n",
       "  </tbody>\n",
       "</table>\n",
       "</div>"
      ],
      "text/plain": [
       "     name  freq\n",
       "515  hans  4273"
      ]
     },
     "execution_count": 12,
     "metadata": {},
     "output_type": "execute_result"
    }
   ],
   "source": [
    "df_nordic = top_w_count.copy()\n",
    "df_nordic = df_nordic[df_nordic.country.isin([\"DK\",\"SE\"])]\n",
    "dfn=df_nordic.groupby(['name']).agg({'freq': 'sum'}).reset_index()\n",
    "dfn[dfn[\"name\"] == \"hans\"]"
   ]
  },
  {
   "cell_type": "code",
   "execution_count": 14,
   "id": "747ba7e9-305a-49a7-90b0-3fb8102d676c",
   "metadata": {},
   "outputs": [
    {
     "data": {
      "text/html": [
       "<div>\n",
       "<style scoped>\n",
       "    .dataframe tbody tr th:only-of-type {\n",
       "        vertical-align: middle;\n",
       "    }\n",
       "\n",
       "    .dataframe tbody tr th {\n",
       "        vertical-align: top;\n",
       "    }\n",
       "\n",
       "    .dataframe thead th {\n",
       "        text-align: right;\n",
       "    }\n",
       "</style>\n",
       "<table border=\"1\" class=\"dataframe\">\n",
       "  <thead>\n",
       "    <tr style=\"text-align: right;\">\n",
       "      <th></th>\n",
       "      <th>name</th>\n",
       "      <th>freq</th>\n",
       "    </tr>\n",
       "  </thead>\n",
       "  <tbody>\n",
       "    <tr>\n",
       "      <th>0</th>\n",
       "      <td>aaron</td>\n",
       "      <td>5856</td>\n",
       "    </tr>\n",
       "    <tr>\n",
       "      <th>1</th>\n",
       "      <td>abdel</td>\n",
       "      <td>16688</td>\n",
       "    </tr>\n",
       "    <tr>\n",
       "      <th>2</th>\n",
       "      <td>abdelkader</td>\n",
       "      <td>3711</td>\n",
       "    </tr>\n",
       "    <tr>\n",
       "      <th>3</th>\n",
       "      <td>abdellah</td>\n",
       "      <td>3986</td>\n",
       "    </tr>\n",
       "    <tr>\n",
       "      <th>4</th>\n",
       "      <td>abderrahim</td>\n",
       "      <td>948</td>\n",
       "    </tr>\n",
       "    <tr>\n",
       "      <th>...</th>\n",
       "      <td>...</td>\n",
       "      <td>...</td>\n",
       "    </tr>\n",
       "    <tr>\n",
       "      <th>2563</th>\n",
       "      <td>zaira</td>\n",
       "      <td>1564</td>\n",
       "    </tr>\n",
       "    <tr>\n",
       "      <th>2564</th>\n",
       "      <td>zakaria</td>\n",
       "      <td>3226</td>\n",
       "    </tr>\n",
       "    <tr>\n",
       "      <th>2565</th>\n",
       "      <td>zineb</td>\n",
       "      <td>2138</td>\n",
       "    </tr>\n",
       "    <tr>\n",
       "      <th>2566</th>\n",
       "      <td>zoe</td>\n",
       "      <td>6678</td>\n",
       "    </tr>\n",
       "    <tr>\n",
       "      <th>2567</th>\n",
       "      <td>zohra</td>\n",
       "      <td>3191</td>\n",
       "    </tr>\n",
       "  </tbody>\n",
       "</table>\n",
       "<p>2568 rows × 2 columns</p>\n",
       "</div>"
      ],
      "text/plain": [
       "            name   freq\n",
       "0          aaron   5856\n",
       "1          abdel  16688\n",
       "2     abdelkader   3711\n",
       "3       abdellah   3986\n",
       "4     abderrahim    948\n",
       "...          ...    ...\n",
       "2563       zaira   1564\n",
       "2564     zakaria   3226\n",
       "2565       zineb   2138\n",
       "2566         zoe   6678\n",
       "2567       zohra   3191\n",
       "\n",
       "[2568 rows x 2 columns]"
      ]
     },
     "execution_count": 14,
     "metadata": {},
     "output_type": "execute_result"
    }
   ],
   "source": [
    "df_romance = top_w_count.copy()\n",
    "df_romance = df_romance[df_romance.country.isin([\"ES\",\"IT\",\"FR\"])]\n",
    "dfr=df_romance.groupby(['name']).agg({'freq': 'sum'}).reset_index()\n",
    "dfr"
   ]
  },
  {
   "cell_type": "code",
   "execution_count": 90,
   "id": "9826aac1-c084-414b-8992-174e008382fa",
   "metadata": {},
   "outputs": [],
   "source": [
    "col = 'lastName'\n",
    "country_name_counts = util.clean_country_name_counts(column=col)\n",
    "top_last = util.get_n_tfidf_names(country_name_counts, n_top_names=1000)\n",
    "top_last_w_count = util.add_freq_to_tfidf(country_name_counts, top_last).reset_index()\n",
    "top_last_w_count = top_last_w_count[top_last_w_count.country.isin(countries)]\n",
    "top_last_repeated = top_last_w_count.loc[top_last_w_count.index.repeat(top_last_w_count.freq)]\n",
    "\n",
    "top_last = top_last.reset_index()\n",
    "top_last = top_last[top_last.country.isin(countries)]"
   ]
  },
  {
   "cell_type": "code",
   "execution_count": null,
   "id": "86b26cfe-a5c2-42bc-9b87-dec27fe5d657",
   "metadata": {},
   "outputs": [],
   "source": []
  },
  {
   "cell_type": "code",
   "execution_count": 17,
   "id": "cce45593-eb40-4e1c-962a-efbc6cd4f307",
   "metadata": {},
   "outputs": [],
   "source": [
    "def entropy(names,length):\n",
    "    probs = pd.Series(dtype='float64')\n",
    "    for i in range(length):\n",
    "        probs = pd.concat([(names.str[i].value_counts(normalize=True)/length),probs], ignore_index=True)\n",
    "    return probs.apply(lambda p: (-p*np.log2(p))).sum()\n",
    "def entropy_single_position(names,position):\n",
    "    probs = pd.Series(dtype='float64')\n",
    "    probs = pd.concat([(names.str[position].value_counts(normalize=True)),probs], ignore_index=True)\n",
    "    return probs.apply(lambda p: (-p*np.log2(p))).sum()\n",
    "def probability_last_positions(names,position= -1):\n",
    "    probs = pd.Series(dtype='float64')\n",
    "    return pd.concat([(names.str[position:].value_counts(normalize=True)),probs], ignore_index=False)\n",
    "def probability_last_3(names):\n",
    "    probs = pd.Series(dtype='float64')\n",
    "    return pd.concat([(names.str[-3:].value_counts(normalize=True)),probs], ignore_index=False)    "
   ]
  },
  {
   "cell_type": "code",
   "execution_count": 6,
   "id": "3a1e3bf0-2edd-4203-8afb-768f694b292c",
   "metadata": {},
   "outputs": [],
   "source": [
    "# length = 5\n",
    "# for column in df.columns:\n",
    "#     names = [name for name in df[column] if len(name) == length]\n",
    "#     names_shuffled = util.shuffle_names(names)[length]\n",
    "#     entropy_val = entropy(pd.Series(names),length)\n",
    "#     shuffled_entropy = entropy(pd.Series(names_shuffled),length)\n",
    "#     print(f\"entropy for {column}: {entropy_val}\")\n",
    "#     print(f\"shuffled entropy for {column}: {shuffled_entropy}\")\n",
    "#     print(f\"relative entropy for  {column}: {shuffled_entropy-entropy_val}\")"
   ]
  },
  {
   "cell_type": "code",
   "execution_count": 7,
   "id": "d7e866c6-a44e-4317-8e92-201b1a3446bc",
   "metadata": {},
   "outputs": [],
   "source": [
    "df = top.copy()"
   ]
  },
  {
   "cell_type": "code",
   "execution_count": 8,
   "id": "3eea821e-164b-49d7-98d9-1ea11a60cf9b",
   "metadata": {},
   "outputs": [
    {
     "name": "stdout",
     "output_type": "stream",
     "text": [
      "entropy for DK: 3.58\n",
      "entropy for ES: 3.32\n",
      "entropy for FR: 3.31\n",
      "entropy for IT: 2.3\n",
      "entropy for PT: 2.55\n",
      "entropy for SE: 3.56\n"
     ]
    }
   ],
   "source": [
    "# length = 5\n",
    "position = -1\n",
    "for column in df.country.unique():\n",
    "    names = list(df[df.country == column][\"name\"])\n",
    "    # names_shuffled = util.shuffle_names(names)[length]\n",
    "    entropy_val = round(entropy_single_position(pd.Series(names),position),2)\n",
    "    # shuffled_entropy = entropy_single_position(pd.Series(names_shuffled),position)\n",
    "    print(f\"entropy for {column}: {entropy_val}\")\n",
    "    # print(f\"shuffled entropy for {column}: {shuffled_entropy}\")\n",
    "    # print(f\"relative entropy for  {column}: {shuffled_entropy-entropy_val}\")"
   ]
  },
  {
   "cell_type": "code",
   "execution_count": 9,
   "id": "fec76f90-739a-4779-9d04-b3bbf23f0348",
   "metadata": {},
   "outputs": [
    {
     "name": "stdout",
     "output_type": "stream",
     "text": [
      "entropy for danish: 3.42\n",
      "entropy for spanish: 2.98\n",
      "entropy for italian: 2.6\n",
      "entropy for portuguese: 2.7\n",
      "entropy for swedish: 3.49\n"
     ]
    }
   ],
   "source": [
    "languages = [\"danish\",\"spanish\",\"italian\",\"portuguese\",\"swedish\"]\n",
    "\n",
    "for lang in languages:\n",
    "    \n",
    "    lang_words = util.get_language_corpus_words(language=lang)\n",
    "    entropy_val = round(entropy_single_position(pd.Series(lang_words),-1),2)\n",
    "    print(f\"entropy for {lang}: {entropy_val}\")\n",
    "    "
   ]
  },
  {
   "cell_type": "code",
   "execution_count": 10,
   "id": "f3bbf1db-91be-425f-a495-ddf174fb5538",
   "metadata": {},
   "outputs": [],
   "source": [
    "lang_words = util.get_language_corpus_words(language=\"italian\")\n",
    "p_words = probability_last_position(pd.Series(lang_words))"
   ]
  },
  {
   "cell_type": "code",
   "execution_count": 11,
   "id": "b7ee7e73-18c8-4b44-9e8a-75ac6ee591c0",
   "metadata": {},
   "outputs": [],
   "source": [
    "names = list(df[df.country == \"IT\"][\"name\"].apply(unidecode))\n",
    "p_names = probability_last_position(pd.Series(names))"
   ]
  },
  {
   "cell_type": "code",
   "execution_count": 12,
   "id": "9fe0cb35-a755-4aae-a21e-db53eb383d33",
   "metadata": {},
   "outputs": [],
   "source": [
    "df_c = pd.DataFrame([p_words,p_names]).fillna(0.000001)\n",
    "p_words_n = df_c.iloc[0]\n",
    "p_names_n = df_c.iloc[1]\n",
    "entropy(p_names_n,p_words_n)\n"
   ]
  },
  {
   "cell_type": "code",
   "execution_count": 21,
   "id": "47e21508-762f-4f33-9cfa-4cd5e8e886ec",
   "metadata": {},
   "outputs": [],
   "source": [
    "def entropy_country_lang(df,position=-1):\n",
    "    # romance = ['ES', 'PT', 'FR', 'IT']\n",
    "    # germanic = ['GB', 'SE', 'DE', 'NL']\n",
    "    country_to_lang ={\"IT\":\"italian\",\"ES\":\"spanish\",\"PT\":\"portuguese\",\"FR\":\"french\",\"SE\":\"swedish\",\"GB\":\"english\",\"DE\":\"german\",\"NL\":\"dutch\"}\n",
    "    for country, lang in country_to_lang.items():\n",
    "        lang_words = util.get_language_corpus_words(language=lang)\n",
    "        if position < -1:\n",
    "            lang_words = [word for word in lang_words if len(word) >= 3]\n",
    "        p_words = probability_last_positions(pd.Series(lang_words),position=position)\n",
    "        names = list(df[df.country == country][\"name\"].apply(unidecode))\n",
    "        if position < -1:\n",
    "            names = [word for word in names if len(word) >= 3]\n",
    "        p_names = probability_last_positions(pd.Series(names),position=position)\n",
    "        df_c = pd.DataFrame([p_words,p_names]).fillna(0.000001)\n",
    "        p_words_n = df_c.iloc[0]\n",
    "        p_names_n = df_c.iloc[1]\n",
    "        entropy_n = round(stats.entropy(p_names_n),2)\n",
    "        entropy_w = round(stats.entropy(p_words_n),2)\n",
    "        kl = round(stats.entropy(p_names_n,p_words_n),2)\n",
    "        print(f\"{country}: {entropy_n} | {lang}: {entropy_w} |  kl divergence: {kl}\")\n",
    "    "
   ]
  },
  {
   "cell_type": "code",
   "execution_count": 22,
   "id": "8b7ee537-5d4b-400c-ab9e-30bd7c404e35",
   "metadata": {},
   "outputs": [
    {
     "name": "stdout",
     "output_type": "stream",
     "text": [
      "last letter of first names and languages with repeated names\n",
      "IT: 1.35 | italian: 1.8 |  kl divergence: 0.49\n",
      "ES: 2.16 | spanish: 2.06 |  kl divergence: 0.25\n",
      "PT: 1.65 | portuguese: 1.87 |  kl divergence: 0.31\n",
      "FR: 2.21 | french: 2.01 |  kl divergence: 0.52\n",
      "SE: 2.29 | swedish: 2.42 |  kl divergence: 0.46\n",
      "GB: 2.47 | english: 2.53 |  kl divergence: 0.44\n",
      "DE: 2.51 | german: 2.27 |  kl divergence: 0.97\n",
      "NL: 2.52 | dutch: 2.2 |  kl divergence: 0.82\n",
      "last 3 letters of first names and languages with repeated names\n",
      "IT: 4.67 | italian: 5.16 |  kl divergence: 2.82\n",
      "ES: 5.09 | spanish: 5.18 |  kl divergence: 3.47\n",
      "PT: 4.55 | portuguese: 5.24 |  kl divergence: 3.85\n",
      "FR: 5.15 | french: 4.98 |  kl divergence: 3.88\n",
      "SE: 5.17 | swedish: 5.23 |  kl divergence: 3.88\n",
      "GB: 5.52 | english: 5.21 |  kl divergence: 4.65\n",
      "DE: 5.39 | german: 5.0 |  kl divergence: 4.94\n",
      "NL: 5.57 | dutch: 5.08 |  kl divergence: 4.5\n",
      "last letter of last names and languages with repeated names\n",
      "IT: 1.44 | italian: 1.8 |  kl divergence: 0.31\n",
      "ES: 1.74 | spanish: 2.06 |  kl divergence: 2.01\n",
      "PT: 1.46 | portuguese: 1.87 |  kl divergence: 0.27\n",
      "FR: 2.59 | french: 2.01 |  kl divergence: 0.55\n",
      "SE: 1.55 | swedish: 2.42 |  kl divergence: 0.99\n",
      "GB: 2.3 | english: 2.53 |  kl divergence: 0.3\n",
      "DE: 2.36 | german: 2.27 |  kl divergence: 0.35\n",
      "NL: 2.29 | dutch: 2.2 |  kl divergence: 0.4\n",
      "last 3 letters of last names and languages with repeated names\n",
      "IT: 4.87 | italian: 5.16 |  kl divergence: 1.92\n",
      "ES: 4.51 | spanish: 5.18 |  kl divergence: 4.36\n",
      "PT: 4.45 | portuguese: 5.24 |  kl divergence: 2.49\n",
      "FR: 5.29 | french: 4.98 |  kl divergence: 3.49\n",
      "SE: 2.7 | swedish: 5.23 |  kl divergence: 6.28\n",
      "GB: 5.11 | english: 5.21 |  kl divergence: 3.31\n",
      "DE: 4.89 | german: 5.0 |  kl divergence: 3.07\n",
      "NL: 4.89 | dutch: 5.08 |  kl divergence: 2.84\n"
     ]
    }
   ],
   "source": [
    "print(\"last letter of first names and languages with repeated names\")\n",
    "df = top_repeated.copy()\n",
    "entropy_country_lang(df,position=-1)\n",
    "print(\"last 3 letters of first names and languages with repeated names\")\n",
    "df = top_repeated.copy()\n",
    "entropy_country_lang(df,position=-3)\n",
    "print(\"last letter of last names and languages with repeated names\")\n",
    "df = top_last_repeated.copy()\n",
    "entropy_country_lang(df,position=-1)\n",
    "print(\"last 3 letters of last names and languages with repeated names\")\n",
    "df = top_last_repeated.copy()\n",
    "entropy_country_lang(df,position=-3)"
   ]
  },
  {
   "cell_type": "code",
   "execution_count": null,
   "id": "7f5c8963-6228-423c-a347-88ebccf9ac8e",
   "metadata": {},
   "outputs": [],
   "source": []
  }
 ],
 "metadata": {
  "kernelspec": {
   "display_name": "Python 3 (ipykernel)",
   "language": "python",
   "name": "python3"
  },
  "language_info": {
   "codemirror_mode": {
    "name": "ipython",
    "version": 3
   },
   "file_extension": ".py",
   "mimetype": "text/x-python",
   "name": "python",
   "nbconvert_exporter": "python",
   "pygments_lexer": "ipython3",
   "version": "3.10.8"
  }
 },
 "nbformat": 4,
 "nbformat_minor": 5
}
